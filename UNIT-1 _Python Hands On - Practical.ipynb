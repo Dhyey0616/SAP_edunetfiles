{
 "cells": [
  {
   "cell_type": "markdown",
   "metadata": {},
   "source": [
    "## Practical 1"
   ]
  },
  {
   "cell_type": "markdown",
   "metadata": {},
   "source": [
    "Write a Python function to check whether a string is pangram or not.3 \n",
    "\n",
    " \n",
    "\n",
    "Note: Pangrams are words or sentences containing every letter of the alphabet at least once. \n",
    " \n",
    "\n",
    "For example: \"The quick brown fox jumps over the lazy dog\" \n",
    "\n",
    " \n",
    "\n",
    "Hint: Look at the string module"
   ]
  },
  {
   "cell_type": "code",
   "execution_count": 1,
   "metadata": {},
   "outputs": [],
   "source": [
    "import string\n",
    "\n",
    "def ispangram(str1, alphabet=string.ascii_lowercase):\n",
    "    pass"
   ]
  },
  {
   "cell_type": "code",
   "execution_count": 2,
   "metadata": {},
   "outputs": [],
   "source": [
    "ispangram(\"The quick brown fox jumps over the lazy dog\")"
   ]
  },
  {
   "cell_type": "code",
   "execution_count": 3,
   "metadata": {},
   "outputs": [
    {
     "data": {
      "text/plain": [
       "'abcdefghijklmnopqrstuvwxyz'"
      ]
     },
     "execution_count": 3,
     "metadata": {},
     "output_type": "execute_result"
    }
   ],
   "source": [
    "string.ascii_lowercase"
   ]
  },
  {
   "cell_type": "markdown",
   "metadata": {},
   "source": [
    "## Practical 2"
   ]
  },
  {
   "cell_type": "markdown",
   "metadata": {},
   "source": [
    "A teacher in a school wants to find and display the grade of a student based on his/her percentage score. The criterion for grades is as given below: \n"
   ]
  },
  {
   "cell_type": "code",
   "execution_count": 4,
   "metadata": {},
   "outputs": [
    {
     "name": "stdout",
     "output_type": "stream",
     "text": [
      "Enter percentage score of a student98\n",
      "A\n"
     ]
    }
   ],
   "source": [
    "# Suppose some programmer solve above problem as given below\n",
    "\n",
    "grade=float(input(\"Enter percentage score of a student\"))\n",
    "\n",
    "if grade>=80 and grade<=100:\n",
    "    print(\"A\")\n",
    "elif grade>=73 and grade<=79:\n",
    "    print(\"B\")\n",
    "elif grade>=65 and grade<=72:\n",
    "    print(\"C\")\n",
    "elif grade>=0 and grade<=64:\n",
    "    print(\"D\")\n",
    "else:\n",
    "    print(\"Z\")"
   ]
  },
  {
   "cell_type": "markdown",
   "metadata": {},
   "source": [
    "## Practical 3\n",
    "\n",
    "Write a program to print all prime numbers that fall between two numbers including both (accept two numbers from the user) "
   ]
  },
  {
   "cell_type": "code",
   "execution_count": 8,
   "metadata": {},
   "outputs": [
    {
     "name": "stdout",
     "output_type": "stream",
     "text": [
      "Enter first number2\n",
      "Enter Second number100\n",
      "2\n",
      "3\n",
      "5\n",
      "7\n",
      "11\n",
      "13\n",
      "17\n",
      "19\n",
      "23\n",
      "29\n",
      "31\n",
      "37\n",
      "41\n",
      "43\n",
      "47\n",
      "53\n",
      "59\n",
      "61\n",
      "67\n",
      "71\n",
      "73\n",
      "79\n",
      "83\n",
      "89\n",
      "97\n"
     ]
    }
   ],
   "source": [
    "def primn(num):\n",
    "    f=0\n",
    "    if num==1 or num==0:\n",
    "        f=1\n",
    "\n",
    "    for i in range(2,num):\n",
    "\n",
    "        if num%i==0:\n",
    "  \n",
    "            f=1\n",
    "\n",
    "    if f==1:\n",
    "\n",
    "        return 'n'\n",
    "\n",
    "    else:\n",
    "\n",
    "        return 'y'\n",
    "\n",
    "num1=int(input(\"Enter first number\"))\n",
    "\n",
    "num2=int(input(\"Enter Second number\"))\n",
    "\n",
    "if num1>num2:\n",
    "\n",
    "    for i in range(num2,num1+1):\n",
    "    \n",
    "        r=primn(i)\n",
    "\n",
    "        if r=='y':\n",
    "\n",
    "             print(i)\n",
    "\n",
    "else:\n",
    "\n",
    "    for i in range(num1,num2+1):\n",
    "    \n",
    "        r=primn(i)\n",
    "\n",
    "        if r=='y':\n",
    "\n",
    "            print(i)"
   ]
  },
  {
   "cell_type": "markdown",
   "metadata": {},
   "source": [
    "## Practical 4"
   ]
  },
  {
   "cell_type": "markdown",
   "metadata": {},
   "source": [
    "Take a list of length n where all the numbers are non-negative and unique. Find the element in the list possessing the highest value. Split the element into two parts where first part contains the next highest value in the list and second part hold the required additive entity to get the highest value. Print the list where the highest value get splitted into those two parts. "
   ]
  },
  {
   "cell_type": "code",
   "execution_count": 9,
   "metadata": {},
   "outputs": [
    {
     "name": "stdout",
     "output_type": "stream",
     "text": [
      "Maximum Element :  5\n",
      "Index of Max Element :  4\n",
      "Second Largest Element 4\n",
      "Additive in Sec_max 1\n",
      "New Array [1, 2, 3, 4, 4, 1]\n"
     ]
    }
   ],
   "source": [
    "a=[1,2,3,4,5]\n",
    "maxi=a[0]    # 4\n",
    "i=0\n",
    "while i<len(a):\n",
    "    if a[i]>maxi: \n",
    "        maxi=a[i] \n",
    "        max_index=i  \n",
    "    i+=1\n",
    "print(\"Maximum Element : \",maxi)\n",
    "print(\"Index of Max Element : \",max_index)\n",
    "sec_max=a[0] # 4\n",
    "i=0\n",
    "while i<len(a):\n",
    "    if a[i]!=maxi and sec_max<a[i]:      \n",
    "        sec_max=a[i]\n",
    "    i+=1\n",
    "print('Second Largest Element',sec_max)\n",
    "diff=maxi-sec_max\n",
    "print(\"Additive in Sec_max\",diff)\n",
    "print('New Array',a[:max_index]+[sec_max,diff]+a[max_index+1:])\n",
    "\n",
    "        \n"
   ]
  },
  {
   "cell_type": "markdown",
   "metadata": {},
   "source": [
    "## Practical 5"
   ]
  },
  {
   "cell_type": "code",
   "execution_count": null,
   "metadata": {},
   "outputs": [],
   "source": []
  }
 ],
 "metadata": {
  "kernelspec": {
   "display_name": "Python 3",
   "language": "python",
   "name": "python3"
  },
  "language_info": {
   "codemirror_mode": {
    "name": "ipython",
    "version": 3
   },
   "file_extension": ".py",
   "mimetype": "text/x-python",
   "name": "python",
   "nbconvert_exporter": "python",
   "pygments_lexer": "ipython3",
   "version": "3.7.4"
  }
 },
 "nbformat": 4,
 "nbformat_minor": 4
}
